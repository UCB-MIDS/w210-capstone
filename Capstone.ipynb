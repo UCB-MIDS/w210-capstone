{
 "cells": [
  {
   "cell_type": "code",
   "execution_count": 96,
   "metadata": {
    "collapsed": true
   },
   "outputs": [],
   "source": [
    "import numpy as np\n",
    "import matplotlib.pyplot as plt\n",
    "import pandas as pd\n",
    "from glob import glob\n",
    "from functools import reduce"
   ]
  },
  {
   "cell_type": "code",
   "execution_count": 82,
   "metadata": {},
   "outputs": [
    {
     "name": "stdout",
     "output_type": "stream",
     "text": [
      "<class 'pandas.core.frame.DataFrame'>\n",
      "Int64Index: 243721 entries, 0 to 243720\n",
      "Data columns (total 95 columns):\n",
      "id                                  243721 non-null int64\n",
      "listing_url                         243721 non-null object\n",
      "scrape_id                           243721 non-null int64\n",
      "name                                243692 non-null object\n",
      "summary                             233006 non-null object\n",
      "space                               181704 non-null object\n",
      "description                         243645 non-null object\n",
      "experiences_offered                 238296 non-null object\n",
      "neighborhood_overview               146604 non-null object\n",
      "notes                               115330 non-null object\n",
      "transit                             152949 non-null object\n",
      "access                              122169 non-null object\n",
      "interaction                         117957 non-null object\n",
      "house_rules                         133888 non-null object\n",
      "thumbnail_url                       186918 non-null object\n",
      "medium_url                          186918 non-null object\n",
      "picture_url                         243721 non-null object\n",
      "xl_picture_url                      186918 non-null object\n",
      "host_id                             243721 non-null int64\n",
      "host_url                            243721 non-null object\n",
      "host_name                           243478 non-null object\n",
      "host_since                          243478 non-null object\n",
      "host_location                       242903 non-null object\n",
      "host_about                          172865 non-null object\n",
      "host_response_time                  184552 non-null object\n",
      "host_response_rate                  184552 non-null object\n",
      "host_acceptance_rate                64454 non-null object\n",
      "host_is_superhost                   243478 non-null object\n",
      "host_thumbnail_url                  238053 non-null object\n",
      "host_picture_url                    243478 non-null object\n",
      "host_neighbourhood                  219387 non-null object\n",
      "host_listings_count                 238053 non-null float64\n",
      "host_total_listings_count           238053 non-null float64\n",
      "host_verifications                  238296 non-null object\n",
      "host_has_profile_pic                238053 non-null object\n",
      "host_identity_verified              238053 non-null object\n",
      "street                              243721 non-null object\n",
      "neighbourhood                       225096 non-null object\n",
      "neighbourhood_cleansed              243721 non-null object\n",
      "neighbourhood_group_cleansed        0 non-null float64\n",
      "city                                243714 non-null object\n",
      "state                               243707 non-null object\n",
      "zipcode                             241310 non-null object\n",
      "market                              241878 non-null object\n",
      "smart_location                      238296 non-null object\n",
      "country_code                        238296 non-null object\n",
      "country                             243721 non-null object\n",
      "latitude                            243721 non-null float64\n",
      "longitude                           243721 non-null float64\n",
      "is_location_exact                   243721 non-null object\n",
      "property_type                       243648 non-null object\n",
      "room_type                           243721 non-null object\n",
      "accommodates                        243721 non-null int64\n",
      "bathrooms                           242517 non-null float64\n",
      "bedrooms                            243533 non-null float64\n",
      "beds                                243365 non-null float64\n",
      "bed_type                            243721 non-null object\n",
      "amenities                           238296 non-null object\n",
      "square_feet                         5715 non-null float64\n",
      "price                               243721 non-null object\n",
      "weekly_price                        70066 non-null object\n",
      "monthly_price                       54020 non-null object\n",
      "security_deposit                    123441 non-null object\n",
      "cleaning_fee                        178282 non-null object\n",
      "guests_included                     243721 non-null int64\n",
      "extra_people                        243721 non-null object\n",
      "minimum_nights                      243721 non-null int64\n",
      "maximum_nights                      243721 non-null int64\n",
      "calendar_updated                    243721 non-null object\n",
      "has_availability                    89939 non-null object\n",
      "availability_30                     243719 non-null float64\n",
      "availability_60                     243719 non-null float64\n",
      "availability_90                     243719 non-null float64\n",
      "availability_365                    243719 non-null float64\n",
      "calendar_last_scraped               243721 non-null object\n",
      "number_of_reviews                   243721 non-null int64\n",
      "first_review                        192437 non-null object\n",
      "last_review                         192602 non-null object\n",
      "review_scores_rating                190004 non-null float64\n",
      "review_scores_accuracy              189615 non-null float64\n",
      "review_scores_cleanliness           189688 non-null float64\n",
      "review_scores_checkin               189402 non-null float64\n",
      "review_scores_communication         189693 non-null float64\n",
      "review_scores_location              189417 non-null float64\n",
      "review_scores_value                 189371 non-null float64\n",
      "requires_license                    243721 non-null object\n",
      "license                             46804 non-null object\n",
      "jurisdiction_names                  243075 non-null object\n",
      "instant_bookable                    238296 non-null object\n",
      "cancellation_policy                 238296 non-null object\n",
      "require_guest_profile_picture       238296 non-null object\n",
      "require_guest_phone_verification    238296 non-null object\n",
      "calculated_host_listings_count      243721 non-null int64\n",
      "reviews_per_month                   192437 non-null float64\n",
      "is_business_travel_ready            53073 non-null object\n",
      "dtypes: float64(21), int64(9), object(65)\n",
      "memory usage: 178.5+ MB\n",
      "None\n",
      "Index(['id', 'listing_url', 'scrape_id', 'name', 'summary', 'space',\n",
      "       'description', 'experiences_offered', 'neighborhood_overview', 'notes',\n",
      "       'transit', 'access', 'interaction', 'house_rules', 'thumbnail_url',\n",
      "       'medium_url', 'picture_url', 'xl_picture_url', 'host_id', 'host_url',\n",
      "       'host_name', 'host_since', 'host_location', 'host_about',\n",
      "       'host_response_time', 'host_response_rate', 'host_acceptance_rate',\n",
      "       'host_is_superhost', 'host_thumbnail_url', 'host_picture_url',\n",
      "       'host_neighbourhood', 'host_listings_count',\n",
      "       'host_total_listings_count', 'host_verifications',\n",
      "       'host_has_profile_pic', 'host_identity_verified', 'street',\n",
      "       'neighbourhood', 'neighbourhood_cleansed',\n",
      "       'neighbourhood_group_cleansed', 'city', 'state', 'zipcode', 'market',\n",
      "       'smart_location', 'country_code', 'country', 'latitude', 'longitude',\n",
      "       'is_location_exact', 'property_type', 'room_type', 'accommodates',\n",
      "       'bathrooms', 'bedrooms', 'beds', 'bed_type', 'amenities', 'square_feet',\n",
      "       'price', 'weekly_price', 'monthly_price', 'security_deposit',\n",
      "       'cleaning_fee', 'guests_included', 'extra_people', 'minimum_nights',\n",
      "       'maximum_nights', 'calendar_updated', 'has_availability',\n",
      "       'availability_30', 'availability_60', 'availability_90',\n",
      "       'availability_365', 'calendar_last_scraped', 'number_of_reviews',\n",
      "       'first_review', 'last_review', 'review_scores_rating',\n",
      "       'review_scores_accuracy', 'review_scores_cleanliness',\n",
      "       'review_scores_checkin', 'review_scores_communication',\n",
      "       'review_scores_location', 'review_scores_value', 'requires_license',\n",
      "       'license', 'jurisdiction_names', 'instant_bookable',\n",
      "       'cancellation_policy', 'require_guest_profile_picture',\n",
      "       'require_guest_phone_verification', 'calculated_host_listings_count',\n",
      "       'reviews_per_month', 'is_business_travel_ready'],\n",
      "      dtype='object')\n",
      "(243721, 95)\n"
     ]
    }
   ],
   "source": [
    "# Import the datasets\n",
    "filenames = glob('./data/*listings.csv')\n",
    "dataframes = [pd.read_csv(f, low_memory=False, index_col='last_scraped') for f in filenames]\n",
    "\n",
    "# Merge the datasets into one (outer join)\n",
    "listings = reduce(lambda x, y: pd.merge(x, y, how='outer'), dataframes)\n",
    "#print(listings.head())\n",
    "print(listings.info())\n",
    "print(listings.columns)\n",
    "print(listings.shape)"
   ]
  },
  {
   "cell_type": "code",
   "execution_count": 77,
   "metadata": {},
   "outputs": [
    {
     "name": "stdout",
     "output_type": "stream",
     "text": [
      "         id                            listing_url       scrape_id  \\\n",
      "0   8388658   https://www.airbnb.com/rooms/8388658  20170101020834   \n",
      "1   1427660   https://www.airbnb.com/rooms/1427660  20170101020834   \n",
      "2  15664146  https://www.airbnb.com/rooms/15664146  20170101020834   \n",
      "3  15285867  https://www.airbnb.com/rooms/15285867  20170101020834   \n",
      "4  16362304  https://www.airbnb.com/rooms/16362304  20170101020834   \n",
      "\n",
      "                                              name  \\\n",
      "0              Mid-century Seacliff near GG Bridge   \n",
      "1               Charming Studio Apt at Ocean Beach   \n",
      "2  Spacious 3 beds in convenient/safe neighborhood   \n",
      "3                                  Cozy Rendezvous   \n",
      "4                        Best Master Suite in Town   \n",
      "\n",
      "                                             summary  \\\n",
      "0  Three-bedroom in exclusive Seacliff neighborho...   \n",
      "1  Charming, private, peaceful hideaway 2 blocks ...   \n",
      "2  My place is close to Golden Gate Bridge, Park ...   \n",
      "3  Cozy, sunny single occupancy bedroom in a spac...   \n",
      "4  My place is close to Golden Gate Bridge, Lands...   \n",
      "\n",
      "                                               space  \\\n",
      "0                                                NaN   \n",
      "1  Dear Guests, This quiet and private, 1 bedroom...   \n",
      "2                                                NaN   \n",
      "3                                                NaN   \n",
      "4  This is a two story house. Your room is on the...   \n",
      "\n",
      "                                         description experiences_offered  \\\n",
      "0  Three-bedroom in exclusive Seacliff neighborho...                none   \n",
      "1  Charming, private, peaceful hideaway 2 blocks ...                none   \n",
      "2  My place is close to Golden Gate Bridge, Park ...                none   \n",
      "3  Cozy, sunny single occupancy bedroom in a spac...                none   \n",
      "4  My place is close to Golden Gate Bridge, Lands...                none   \n",
      "\n",
      "                               neighborhood_overview  \\\n",
      "0                                                NaN   \n",
      "1  I'm excited for you to discover why I love liv...   \n",
      "2                                                NaN   \n",
      "3                                                NaN   \n",
      "4  This is a Muti culture neighborhood that inclu...   \n",
      "\n",
      "                                               notes           ...             \\\n",
      "0                                                NaN           ...              \n",
      "1  The studio is not equipped for cooking, nor is...           ...              \n",
      "2                                                NaN           ...              \n",
      "3                                                NaN           ...              \n",
      "4  1, Since your room is on the top floor of the ...           ...              \n",
      "\n",
      "  requires_license      license jurisdiction_names instant_bookable  \\\n",
      "0                f          NaN      SAN FRANCISCO                f   \n",
      "1                f  STR-0000026      SAN FRANCISCO                f   \n",
      "2                f          NaN      SAN FRANCISCO                f   \n",
      "3                f          NaN      SAN FRANCISCO                t   \n",
      "4                f          NaN      SAN FRANCISCO                f   \n",
      "\n",
      "  cancellation_policy require_guest_profile_picture  \\\n",
      "0            flexible                             f   \n",
      "1            flexible                             f   \n",
      "2              strict                             f   \n",
      "3            flexible                             f   \n",
      "4              strict                             f   \n",
      "\n",
      "  require_guest_phone_verification calculated_host_listings_count  \\\n",
      "0                                f                              1   \n",
      "1                                f                              1   \n",
      "2                                f                              1   \n",
      "3                                f                              2   \n",
      "4                                f                              3   \n",
      "\n",
      "   reviews_per_month is_business_travel_ready  \n",
      "0                NaN                      NaN  \n",
      "1               6.62                      NaN  \n",
      "2               1.62                      NaN  \n",
      "3               1.69                      NaN  \n",
      "4                NaN                      NaN  \n",
      "\n",
      "[5 rows x 95 columns]\n",
      "        scrape_id\n",
      "0  20170101020834\n",
      "1  20170101020834\n",
      "2  20170101020834\n",
      "3  20170101020834\n",
      "4  20170101020834\n"
     ]
    }
   ],
   "source": [
    "listings = listings.sort_index()\n",
    "print(listings.head())\n",
    "#print(listings[['name']].head())\n",
    "print(listings[['scrape_id']].head())"
   ]
  },
  {
   "cell_type": "code",
   "execution_count": 81,
   "metadata": {
    "scrolled": true
   },
   "outputs": [
    {
     "name": "stdout",
     "output_type": "stream",
     "text": [
      "              id                            listing_url       scrape_id  \\\n",
      "132316  23582172  https://www.airbnb.com/rooms/23582172  20180303203625   \n",
      "132317  23583583  https://www.airbnb.com/rooms/23583583  20180303203625   \n",
      "132318  23583822  https://www.airbnb.com/rooms/23583822  20180303203625   \n",
      "132319  23584006  https://www.airbnb.com/rooms/23584006  20180303203625   \n",
      "132320  23594684  https://www.airbnb.com/rooms/23594684  20180303203625   \n",
      "\n",
      "                                                     name  \\\n",
      "132316                         Modern Flat - City Center!   \n",
      "132317   [No.4] 2 Full Beds Bedroom with shared Bathrooms   \n",
      "132318    [No.5] DOUBLE Bed Bedroom with shared Bathrooms   \n",
      "132319        [No.6] Bright Bedroom with shared Bathrooms   \n",
      "132320  Shared Hotel room at Union Sq. until April 4th...   \n",
      "\n",
      "                                                  summary  \\\n",
      "132316  This gorgeous, airy, light-filled brand new ho...   \n",
      "132317  My place is a newly remodeled house, it locate...   \n",
      "132318  My place is a newly remodeled house, it locate...   \n",
      "132319  My place is a newly remodeled house, it locate...   \n",
      "132320  Hi! I am staying at the beautiful MOSSER Hotel...   \n",
      "\n",
      "                                                    space  \\\n",
      "132316  Gorgeous and brand new flat located in a prime...   \n",
      "132317  2 full size beds  This room is on 2nd floor, a...   \n",
      "132318  1 Full size bed & 1 twin size bed This room is...   \n",
      "132319  1 Queen size bed This room is on 2nd floor, an...   \n",
      "132320                                                NaN   \n",
      "\n",
      "                                              description experiences_offered  \\\n",
      "132316  This gorgeous, airy, light-filled brand new ho...                none   \n",
      "132317  My place is a newly remodeled house, it locate...                none   \n",
      "132318  My place is a newly remodeled house, it locate...                none   \n",
      "132319  My place is a newly remodeled house, it locate...                none   \n",
      "132320  Hi! I am staying at the beautiful MOSSER Hotel...                none   \n",
      "\n",
      "                                    neighborhood_overview  \\\n",
      "132316  The neighborhood has a walk score  99!  You ca...   \n",
      "132317  There are plenty  restaurants,cafe & shops nea...   \n",
      "132318  There are plenty  restaurants,cafe & shops nea...   \n",
      "132319  There are plenty  restaurants,cafe & shops nea...   \n",
      "132320                                                NaN   \n",
      "\n",
      "                                                    notes  \\\n",
      "132316                                                NaN   \n",
      "132317  NO smoking. NO drugs. NO pets. NO party.  No p...   \n",
      "132318  NO smoking. NO drugs. NO pets. NO party.  No p...   \n",
      "132319  NO smoking. NO drugs. NO pets. NO party.  No p...   \n",
      "132320  You really don´t have to pay me anything also ...   \n",
      "\n",
      "                 ...            requires_license                    license  \\\n",
      "132316           ...                           t  City Registration Pending   \n",
      "132317           ...                           f                        NaN   \n",
      "132318           ...                           f                        NaN   \n",
      "132319           ...                           f                        NaN   \n",
      "132320           ...                           t                STR-1234567   \n",
      "\n",
      "       jurisdiction_names instant_bookable cancellation_policy  \\\n",
      "132316  {\"SAN FRANCISCO\"}                t            flexible   \n",
      "132317                NaN                f            flexible   \n",
      "132318                NaN                f            flexible   \n",
      "132319                NaN                f            flexible   \n",
      "132320  {\"SAN FRANCISCO\"}                f            flexible   \n",
      "\n",
      "       require_guest_profile_picture require_guest_phone_verification  \\\n",
      "132316                             f                                f   \n",
      "132317                             f                                f   \n",
      "132318                             f                                f   \n",
      "132319                             f                                f   \n",
      "132320                             f                                f   \n",
      "\n",
      "       calculated_host_listings_count  reviews_per_month  \\\n",
      "132316                              3                NaN   \n",
      "132317                              6                NaN   \n",
      "132318                              6                NaN   \n",
      "132319                              6                NaN   \n",
      "132320                              1                NaN   \n",
      "\n",
      "       is_business_travel_ready  \n",
      "132316                        f  \n",
      "132317                        f  \n",
      "132318                        f  \n",
      "132319                        f  \n",
      "132320                        f  \n",
      "\n",
      "[5 rows x 95 columns]\n",
      "             scrape_id\n",
      "132316  20180303203625\n",
      "132317  20180303203625\n",
      "132318  20180303203625\n",
      "132319  20180303203625\n",
      "132320  20180303203625\n"
     ]
    }
   ],
   "source": [
    "print(listings.tail())\n",
    "#print(listings[['name']].tail())\n",
    "print(listings[['scrape_id']].tail())"
   ]
  },
  {
   "cell_type": "code",
   "execution_count": null,
   "metadata": {
    "collapsed": true,
    "scrolled": true
   },
   "outputs": [],
   "source": [
    "listings[['calculated_host_listings_count']].plot()\n",
    "#plt.show()"
   ]
  },
  {
   "cell_type": "code",
   "execution_count": 94,
   "metadata": {},
   "outputs": [
    {
     "name": "stdout",
     "output_type": "stream",
     "text": [
      "         id    price\n",
      "0   8388658  $895.00\n",
      "1   1427660  $150.00\n",
      "2  15664146  $295.00\n",
      "3  15285867   $98.00\n",
      "4  16362304   $85.00\n",
      "<class 'pandas.core.frame.DataFrame'>\n"
     ]
    }
   ],
   "source": [
    "print(listings[['id','price']].head())\n",
    "print(type(listings[['price']]))"
   ]
  },
  {
   "cell_type": "code",
   "execution_count": 228,
   "metadata": {},
   "outputs": [
    {
     "name": "stdout",
     "output_type": "stream",
     "text": [
      "The unique number of listing id is (24086,)\n",
      "The unique number of host id is (16856,)\n",
      "The unique number of states covered in the dataset is (6,)\n",
      "The number of cities covered in the dataset is (34,)\n",
      "The unique number of property types covered in the dataset is (43,)\n",
      "The unique number of room types covered in the dataset is (3,)\n",
      "The unique number of price covered in the dataset is (812,)\n",
      "The unique number of security deposit covered in the dataset is (249,)\n",
      "The unique number of cleaning fee covered in the dataset is (244,)\n",
      "The unique number of minimum nights covered in the dataset is (64,)\n",
      "The unique number of maximum nights covered in the dataset is (192,)\n",
      "The unique number of instant bookable covered in the dataset is (3,)\n",
      "The unique number of calendar last scraped covered in the dataset is (49,)\n",
      "The unique number of amenities covered in the dataset is (50616,)\n"
     ]
    }
   ],
   "source": [
    "listing_id = listings.id\n",
    "print('The unique number of listing id is', listing_id.unique().shape)\n",
    "\n",
    "host_id = listings.host_id\n",
    "print('The unique number of host id is', host_id.unique().shape)\n",
    "\n",
    "state = listings.state\n",
    "print('The unique number of states covered in the dataset is', state.unique().shape)\n",
    "\n",
    "city = listings.city\n",
    "print('The number of cities covered in the dataset is', city.unique().shape)\n",
    "\n",
    "property_type = listings.property_type\n",
    "print('The unique number of property types covered in the dataset is', property_type.unique().shape)\n",
    "\n",
    "room_type = listings.room_type\n",
    "print('The unique number of room types covered in the dataset is', room_type.unique().shape)\n",
    "\n",
    "price = listings.price\n",
    "print('The unique number of price covered in the dataset is', price.unique().shape)\n",
    "\n",
    "security_deposit = listings.security_deposit\n",
    "print('The unique number of security deposit covered in the dataset is', security_deposit.unique().shape)\n",
    "\n",
    "cleaning_fee = listings.cleaning_fee\n",
    "print('The unique number of cleaning fee covered in the dataset is', cleaning_fee.unique().shape)\n",
    "\n",
    "minimum_nights = listings.minimum_nights\n",
    "print('The unique number of minimum nights covered in the dataset is', minimum_nights.unique().shape)\n",
    "\n",
    "maximum_nights = listings.maximum_nights\n",
    "print('The unique number of maximum nights covered in the dataset is', maximum_nights.unique().shape)\n",
    "\n",
    "instant_bookable = listings.instant_bookable\n",
    "print('The unique number of instant bookable covered in the dataset is', instant_bookable.unique().shape)\n",
    "      \n",
    "calendar_last_scraped = listings.calendar_last_scraped\n",
    "print('The unique number of calendar last scraped covered in the dataset is', calendar_last_scraped.unique().shape)\n",
    "\n",
    "amenities = listings.amenities\n",
    "print('The unique number of amenities covered in the dataset is', amenities.unique().shape)\n"
   ]
  },
  {
   "cell_type": "code",
   "execution_count": 235,
   "metadata": {},
   "outputs": [
    {
     "name": "stdout",
     "output_type": "stream",
     "text": [
      "0    {TV,Internet,\"Wireless Internet\",Kitchen,\"Free...\n",
      "1    {TV,\"Cable TV\",Internet,\"Wireless Internet\",\"F...\n",
      "2    {TV,\"Wireless Internet\",\"Air conditioning\",Kit...\n",
      "3    {TV,Internet,\"Wireless Internet\",Kitchen,\"Free...\n",
      "4    {TV,\"Wireless Internet\",Kitchen,Heating,\"Smoke...\n",
      "Name: amenities, dtype: object\n",
      "<class 'pandas.core.series.Series'>\n"
     ]
    }
   ],
   "source": [
    "print(amenities.head())\n",
    "print(type(amenities))\n"
   ]
  },
  {
   "cell_type": "code",
   "execution_count": 211,
   "metadata": {},
   "outputs": [
    {
     "name": "stdout",
     "output_type": "stream",
     "text": [
      "   price_num\n",
      "0      895.0\n",
      "1      150.0\n",
      "2      295.0\n",
      "3       98.0\n",
      "4       85.0\n",
      "30000.0\n"
     ]
    }
   ],
   "source": [
    "listings['price_num'] = listings.price.str[1:].str.replace(',', '').astype(float)\n",
    "print(listings[['price_num']].head())\n",
    "print(listings['price_num'].max())"
   ]
  },
  {
   "cell_type": "code",
   "execution_count": null,
   "metadata": {
    "collapsed": true
   },
   "outputs": [],
   "source": []
  },
  {
   "cell_type": "code",
   "execution_count": 216,
   "metadata": {},
   "outputs": [
    {
     "name": "stdout",
     "output_type": "stream",
     "text": [
      "neighbourhood\n",
      "10 min walk to Dogpatch, Mission, SOMA. Walking distance to Whole Foods, Anchor Steam Brewery, Plow, Farley's Coffee. \\n\\nNewly remodeled public library a 10 min walk away.\\n\\nPotrero Hill is known for its breathtaking downtown views, great, eclectic vibe, an    142.000000\n",
      "Alamo Square                                                                                                                                                                                                                                                           314.599754\n",
      "Balboa Terrace                                                                                                                                                                                                                                                         204.692308\n",
      "Bayview                                                                                                                                                                                                                                                                135.491773\n",
      "Bernal Heights                                                                                                                                                                                                                                                         201.165151\n",
      "Name: price_num, dtype: float64\n"
     ]
    },
    {
     "data": {
      "image/png": "[encoded data removed]",
      "text/plain": [
       "<matplotlib.figure.Figure at 0x17ca94b38>"
      ]
     },
     "metadata": {},
     "output_type": "display_data"
    }
   ],
   "source": [
    "price_neighbourhood = listings.groupby('neighbourhood', as_index=True)['price_num'].mean()\n",
    "print(price_neighbourhood.head())\n",
    "plt.plot(price_neighbourhood, color='blue', linewidth=2)\n",
    "plt.show()"
   ]
  },
  {
   "cell_type": "code",
   "execution_count": 222,
   "metadata": {},
   "outputs": [
    {
     "name": "stdout",
     "output_type": "stream",
     "text": [
      "   review_scores_rating   price_num\n",
      "0                  20.0  170.206186\n",
      "1                  28.0  100.000000\n",
      "2                  30.0  176.818182\n",
      "3                  33.0  109.800000\n",
      "4                  40.0  141.750760\n"
     ]
    },
    {
     "data": {
      "image/png": "[encoded data removed]",
      "text/plain": [
       "<matplotlib.figure.Figure at 0x1659d36d8>"
      ]
     },
     "metadata": {},
     "output_type": "display_data"
    }
   ],
   "source": [
    "price_rating = listings.groupby('review_scores_rating', as_index=False)['price_num'].mean()\n",
    "print(price_rating.head())\n",
    "plt.plot(price_rating, color='red', linewidth=2)\n",
    "plt.show()"
   ]
  },
  {
   "cell_type": "code",
   "execution_count": 221,
   "metadata": {},
   "outputs": [
    {
     "name": "stdout",
     "output_type": "stream",
     "text": [
      "neighbourhood\n",
      "10 min walk to Dogpatch, Mission, SOMA. Walking distance to Whole Foods, Anchor Steam Brewery, Plow, Farley's Coffee. \\n\\nNewly remodeled public library a 10 min walk away.\\n\\nPotrero Hill is known for its breathtaking downtown views, great, eclectic vibe, an    98.714286\n",
      "Alamo Square                                                                                                                                                                                                                                                           95.261905\n",
      "Balboa Terrace                                                                                                                                                                                                                                                         94.438984\n",
      "Bayview                                                                                                                                                                                                                                                                91.748011\n",
      "Bernal Heights                                                                                                                                                                                                                                                         95.917682\n",
      "Name: review_scores_rating, dtype: float64\n"
     ]
    },
    {
     "data": {
      "image/png": "[encoded data removed]",
      "text/plain": [
       "<matplotlib.figure.Figure at 0x170c40748>"
      ]
     },
     "metadata": {},
     "output_type": "display_data"
    }
   ],
   "source": [
    "price_rating_neigh = listings.groupby('neighbourhood', as_index=True)['review_scores_rating'].mean()\n",
    "print(price_rating_neigh.head())\n",
    "plt.plot(price_rating_neigh, color='green', linewidth=2)\n",
    "plt.show()"
   ]
  },
  {
   "cell_type": "code",
   "execution_count": 227,
   "metadata": {},
   "outputs": [
    {
     "name": "stdout",
     "output_type": "stream",
     "text": [
      "host_listings_count\n",
      "0.0    93.532609\n",
      "1.0    95.228400\n",
      "2.0    95.062139\n",
      "3.0    94.119523\n",
      "4.0    93.767330\n",
      "Name: review_scores_rating, dtype: float64\n"
     ]
    },
    {
     "data": {
      "image/png": "[encoded data removed]",
      "text/plain": [
       "<matplotlib.figure.Figure at 0x15b5ece10>"
      ]
     },
     "metadata": {},
     "output_type": "display_data"
    }
   ],
   "source": [
    "price_host_rating = listings.groupby('host_listings_count')['review_scores_rating'].mean()\n",
    "print(price_host_rating.head())\n",
    "#print(price_host_rating.max)\n",
    "plt.plot(price_host_rating, color='green', linewidth=2)\n",
    "plt.show()"
   ]
  },
  {
   "cell_type": "code",
   "execution_count": null,
   "metadata": {
    "collapsed": true
   },
   "outputs": [],
   "source": []
  }
 ],
 "metadata": {
  "kernelspec": {
   "display_name": "Python 3",
   "language": "python",
   "name": "python3"
  },
  "language_info": {
   "codemirror_mode": {
    "name": "ipython",
    "version": 3
   },
   "file_extension": ".py",
   "mimetype": "text/x-python",
   "name": "python",
   "nbconvert_exporter": "python",
   "pygments_lexer": "ipython3",
   "version": "3.6.3"
  }
 },
 "nbformat": 4,
 "nbformat_minor": 2
}
